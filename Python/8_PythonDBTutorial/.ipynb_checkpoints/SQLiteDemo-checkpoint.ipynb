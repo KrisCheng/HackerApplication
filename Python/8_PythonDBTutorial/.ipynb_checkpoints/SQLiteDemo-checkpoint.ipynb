{
 "cells": [
  {
   "cell_type": "code",
   "execution_count": 40,
   "metadata": {},
   "outputs": [],
   "source": [
    "import sqlite3\n",
    "import time\n",
    "import datetime\n",
    "conn = sqlite3.connect('tutorial.db')\n",
    "cursor = conn.cursor()\n",
    "\n",
    "def create_table():\n",
    "    cursor.execute('CREATE TABLE IF NOT EXISTS user (id VARCHAR(20) PRIMARY KEY,\\\n",
    "    name VARCHAR(128),course VARCHAR(128), datastamp TEXT)')\n",
    "\n",
    "def data_entry():\n",
    "    cursor.execute(\"INSERT INTO user VALUES ('1', 'Cheng PENG', 'Python', '2018-06-27')\")\n",
    "    conn.commit()\n",
    "    cursor.close()\n",
    "    conn.close()\n",
    "\n",
    "def insert_more_data():\n",
    "    for i in range(10):\n",
    "        current_time = time.time()\n",
    "        date = str(datetime.datetime.fromtimestamp(current_time).strftime('%Y-%m-%d'))\n",
    "        name = \"Cheng PENG\"\n",
    "        course = \"Python \" + str(i) \n",
    "        cursor.execute(\"INSERT INTO user (id, name, course, datastamp) \\\n",
    "        VALUES (?, ?, ?, ?)\", (i, name, course, date))\n",
    "        conn.commit()\n",
    "    cursor.close()\n",
    "    conn.close()\n",
    "\n",
    "def update_table():\n",
    "#     cursor.execute(\"SELECT * FROM user\")\n",
    "    cursor.execute(\"UPDATE user SET name = 'Kris' where name = 'Cheng PENG'\")\n",
    "    conn.commit()\n",
    "    cursor.close()\n",
    "    conn.close()\n",
    "    \n",
    "def read_from_db():\n",
    "    cursor.execute(\"SELECT * FROM user\")\n",
    "    data = cursor.fetchall()\n",
    "    print(data)\n",
    "    for item in data:\n",
    "        print(item)\n",
    "create_table()\n",
    "update_table()\n",
    "# insert_more_data()\n",
    "# data_entry()\n",
    "# read_from_db()"
   ]
  },
  {
   "cell_type": "code",
   "execution_count": null,
   "metadata": {
    "collapsed": true
   },
   "outputs": [],
   "source": []
  },
  {
   "cell_type": "code",
   "execution_count": null,
   "metadata": {
    "collapsed": true
   },
   "outputs": [],
   "source": []
  },
  {
   "cell_type": "code",
   "execution_count": null,
   "metadata": {
    "collapsed": true
   },
   "outputs": [],
   "source": []
  }
 ],
 "metadata": {
  "kernelspec": {
   "display_name": "Python 3",
   "language": "python",
   "name": "python3"
  },
  "language_info": {
   "codemirror_mode": {
    "name": "ipython",
    "version": 3
   },
   "file_extension": ".py",
   "mimetype": "text/x-python",
   "name": "python",
   "nbconvert_exporter": "python",
   "pygments_lexer": "ipython3",
   "version": "3.6.1"
  }
 },
 "nbformat": 4,
 "nbformat_minor": 2
}
